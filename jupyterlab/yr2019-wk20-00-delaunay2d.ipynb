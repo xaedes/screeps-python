{
 "cells": [
  {
   "cell_type": "code",
   "execution_count": 392,
   "metadata": {},
   "outputs": [
    {
     "name": "stdout",
     "output_type": "stream",
     "text": [
      "Python Version\n",
      "3.6.7 (default, Oct 22 2018, 11:32:17) \n",
      "[GCC 8.2.0]\n"
     ]
    }
   ],
   "source": [
    "import sys\n",
    "print(\"Python Version\")\n",
    "print(sys.version)"
   ]
  },
  {
   "cell_type": "code",
   "execution_count": 393,
   "metadata": {},
   "outputs": [],
   "source": [
    "#%matplotlib ipympl\n",
    "%matplotlib inline\n",
    "import numpy as np\n",
    "import matplotlib.pyplot as plt"
   ]
  },
  {
   "cell_type": "code",
   "execution_count": 493,
   "metadata": {},
   "outputs": [],
   "source": [
    "np.set_printoptions(suppress=True)"
   ]
  },
  {
   "cell_type": "code",
   "execution_count": 394,
   "metadata": {},
   "outputs": [],
   "source": [
    "import imageio"
   ]
  },
  {
   "cell_type": "code",
   "execution_count": 395,
   "metadata": {},
   "outputs": [],
   "source": [
    "import math"
   ]
  },
  {
   "cell_type": "code",
   "execution_count": 396,
   "metadata": {},
   "outputs": [],
   "source": [
    "terrain = imageio.imread(\"bw_map_50px.png\")"
   ]
  },
  {
   "cell_type": "code",
   "execution_count": 397,
   "metadata": {},
   "outputs": [
    {
     "data": {
      "text/plain": [
       "<matplotlib.image.AxesImage at 0x7fbec9b89550>"
      ]
     },
     "execution_count": 397,
     "metadata": {},
     "output_type": "execute_result"
    },
    {
     "data": {
      "image/png": "[encoded data removed]",
      "text/plain": [
       "<Figure size 432x288 with 1 Axes>"
      ]
     },
     "metadata": {
      "needs_background": "light"
     },
     "output_type": "display_data"
    }
   ],
   "source": [
    "plt.imshow(terrain,cmap=plt.cm.gray)"
   ]
  },
  {
   "cell_type": "code",
   "execution_count": 398,
   "metadata": {},
   "outputs": [],
   "source": [
    "def rand_point(terrain):\n",
    "    h,w = terrain.shape\n",
    "    return np.floor(np.random.rand(2) * (w,h)).astype(\"int\")"
   ]
  },
  {
   "cell_type": "code",
   "execution_count": 399,
   "metadata": {},
   "outputs": [],
   "source": [
    "def rand_points(terrain, num_points):\n",
    "    points = []\n",
    "    while len(points) < num_points:\n",
    "        point = rand_point(terrain)\n",
    "        if terrain[point[1],point[0]] > 0:\n",
    "            points.append(point)\n",
    "    points = np.array(points)\n",
    "    return points"
   ]
  },
  {
   "cell_type": "code",
   "execution_count": 400,
   "metadata": {},
   "outputs": [],
   "source": [
    "num_points = 4\n",
    "points = rand_points(terrain, num_points)"
   ]
  },
  {
   "cell_type": "code",
   "execution_count": null,
   "metadata": {},
   "outputs": [],
   "source": []
  },
  {
   "cell_type": "code",
   "execution_count": 401,
   "metadata": {},
   "outputs": [
    {
     "data": {
      "text/plain": [
       "[<matplotlib.lines.Line2D at 0x7fbec89a0dd8>]"
      ]
     },
     "execution_count": 401,
     "metadata": {},
     "output_type": "execute_result"
    },
    {
     "data": {
      "image/png": "[encoded data removed]",
      "text/plain": [
       "<Figure size 432x288 with 1 Axes>"
      ]
     },
     "metadata": {
      "needs_background": "light"
     },
     "output_type": "display_data"
    }
   ],
   "source": [
    "plt.imshow(terrain,cmap=plt.cm.gray)\n",
    "plt.plot(points[:,0],points[:,1],\"o\")"
   ]
  },
  {
   "cell_type": "code",
   "execution_count": 402,
   "metadata": {},
   "outputs": [],
   "source": [
    "def distance(A,B):\n",
    "    x0,y0=A\n",
    "    x1,y1=B\n",
    "    dx,dy=x0-x1,y0-y1\n",
    "    return math.sqrt(dx*dx+dy*dy)"
   ]
  },
  {
   "cell_type": "code",
   "execution_count": 403,
   "metadata": {},
   "outputs": [],
   "source": [
    "distances = np.array([\n",
    "    [\n",
    "        distance(A,B)\n",
    "        for B in points\n",
    "    ]\n",
    "    for A in points\n",
    "])"
   ]
  },
  {
   "cell_type": "code",
   "execution_count": 404,
   "metadata": {},
   "outputs": [
    {
     "data": {
      "text/plain": [
       "<matplotlib.image.AxesImage at 0x7fbeca2d7438>"
      ]
     },
     "execution_count": 404,
     "metadata": {},
     "output_type": "execute_result"
    },
    {
     "data": {
      "image/png": "[encoded data removed]",
      "text/plain": [
       "<Figure size 432x288 with 1 Axes>"
      ]
     },
     "metadata": {
      "needs_background": "light"
     },
     "output_type": "display_data"
    }
   ],
   "source": [
    "plt.imshow(distances)"
   ]
  },
  {
   "cell_type": "code",
   "execution_count": 405,
   "metadata": {},
   "outputs": [],
   "source": [
    "def cost_map(terrain_costs, point):\n",
    "    h,w = terrain_costs.shape\n",
    "    cost = np.zeros(terrain_costs.shape, dtype=float)\n",
    "    cost[:,:] = np.infty\n",
    "    visited = np.zeros(terrain_costs.shape, dtype=bool)\n",
    "    stack = [point]\n",
    "    cost[point[1],point[0]] = 0\n",
    "    neighbor_offsets = np.array([\n",
    "        [dx,dy] \n",
    "        for dx in [-1,0,1]\n",
    "        for dy in [-1,0,1]\n",
    "        if not ((dx == 0) and (dy == 0))\n",
    "    ])\n",
    "    #print(neighbor_offsets)\n",
    "    k=0\n",
    "    while len(stack)>0:\n",
    "        #plt.imshow(cost)\n",
    "        #plt.plot(np.array(stack)[:,0],np.array(stack)[:,1],\"o\")\n",
    "        x,y = stack.pop()\n",
    "        if visited[y,x]: continue\n",
    "        visited[y,x] = True\n",
    "        neighbors = [\n",
    "            [x+dx,y+dy]\n",
    "            for dx,dy in neighbor_offsets\n",
    "            if 0 <= x+dx < w \n",
    "            and 0 <= y+dy < h\n",
    "            and terrain_costs[y+dy,x+dx] < np.infty\n",
    "        ]\n",
    "        for nx,ny in neighbors:\n",
    "            stack.append((nx,ny))\n",
    "            if cost[y,x] + terrain_costs[ny,nx] < cost[ny,nx]:\n",
    "                cost[ny,nx] = cost[y,x] + terrain_costs[ny,nx]\n",
    "                \n",
    "    return cost"
   ]
  },
  {
   "cell_type": "code",
   "execution_count": 525,
   "metadata": {},
   "outputs": [],
   "source": [
    "terrain_costs = np.zeros(terrain.shape, float)\n",
    "terrain_costs[:,:] = np.infty\n",
    "terrain_costs[terrain == 0] = np.infty\n",
    "terrain_costs[terrain == 128] = 0\n",
    "terrain_costs[terrain == 255] = 1"
   ]
  },
  {
   "cell_type": "code",
   "execution_count": 526,
   "metadata": {},
   "outputs": [],
   "source": [
    "cost_maps = np.array([\n",
    "    cost_map(terrain_costs, point)\n",
    "    for point in points\n",
    "])"
   ]
  },
  {
   "cell_type": "code",
   "execution_count": null,
   "metadata": {},
   "outputs": [],
   "source": []
  },
  {
   "cell_type": "code",
   "execution_count": 527,
   "metadata": {},
   "outputs": [
    {
     "data": {
      "image/png": "[encoded data removed]",
      "text/plain": [
       "<Figure size 432x288 with 1 Axes>"
      ]
     },
     "metadata": {
      "needs_background": "light"
     },
     "output_type": "display_data"
    },
    {
     "data": {
      "image/png": "[encoded data removed]",
      "text/plain": [
       "<Figure size 432x288 with 1 Axes>"
      ]
     },
     "metadata": {
      "needs_background": "light"
     },
     "output_type": "display_data"
    },
    {
     "data": {
      "image/png": "[encoded data removed]",
      "text/plain": [
       "<Figure size 432x288 with 1 Axes>"
      ]
     },
     "metadata": {
      "needs_background": "light"
     },
     "output_type": "display_data"
    },
    {
     "data": {
      "image/png": "[encoded data removed]",
      "text/plain": [
       "<Figure size 432x288 with 1 Axes>"
      ]
     },
     "metadata": {
      "needs_background": "light"
     },
     "output_type": "display_data"
    }
   ],
   "source": [
    "for cost, point in zip(cost_maps, points):\n",
    "    plt.figure()\n",
    "    plt.imshow(cost)\n",
    "    plt.plot(point[0],point[1],\"x\",color=\"red\")\n"
   ]
  },
  {
   "cell_type": "code",
   "execution_count": 528,
   "metadata": {},
   "outputs": [],
   "source": [
    "def compute_voronoi(cost_maps):\n",
    "    idcs = np.argmin(cost_maps,axis=0)\n",
    "    idcs[cost_maps.min(axis=0) == np.infty] = -1\n",
    "    return idcs"
   ]
  },
  {
   "cell_type": "code",
   "execution_count": 529,
   "metadata": {},
   "outputs": [],
   "source": [
    "voronoi = compute_voronoi(cost_maps)"
   ]
  },
  {
   "cell_type": "code",
   "execution_count": 530,
   "metadata": {},
   "outputs": [
    {
     "data": {
      "text/plain": [
       "[<matplotlib.lines.Line2D at 0x7fbed1074ef0>]"
      ]
     },
     "execution_count": 530,
     "metadata": {},
     "output_type": "execute_result"
    },
    {
     "data": {
      "image/png": "[encoded data removed]",
      "text/plain": [
       "<Figure size 432x288 with 1 Axes>"
      ]
     },
     "metadata": {
      "needs_background": "light"
     },
     "output_type": "display_data"
    }
   ],
   "source": [
    "plt.imshow(voronoi)\n",
    "plt.plot(points[:,0],points[:,1],\"o\",color=\"red\")"
   ]
  },
  {
   "cell_type": "code",
   "execution_count": 531,
   "metadata": {},
   "outputs": [
    {
     "data": {
      "text/plain": [
       "[<matplotlib.lines.Line2D at 0x7fbed1132da0>]"
      ]
     },
     "execution_count": 531,
     "metadata": {},
     "output_type": "execute_result"
    },
    {
     "data": {
      "image/png": "[encoded data removed]",
      "text/plain": [
       "<Figure size 432x288 with 1 Axes>"
      ]
     },
     "metadata": {
      "needs_background": "light"
     },
     "output_type": "display_data"
    }
   ],
   "source": [
    "plt.imshow(cost_maps.min(axis=0))\n",
    "plt.plot(points[:,0],points[:,1],\"o\",color=\"red\")"
   ]
  },
  {
   "cell_type": "code",
   "execution_count": 532,
   "metadata": {},
   "outputs": [],
   "source": [
    "def comute_voronoi_neighbors(indices):\n",
    "    h,w = indices.shape\n",
    "    neighbor_offsets = np.array([\n",
    "        [dx,dy] \n",
    "        for dx in [-1,0,1]\n",
    "        for dy in [-1,0,1]\n",
    "        if not ((dx == 0) and (dy == 0))\n",
    "    ])\n",
    "    neighbors = dict()\n",
    "    for k in range(0,indices.max()+1):\n",
    "        neighbors[k] = set()\n",
    "    for y in range(0,h):\n",
    "        for x in range(0,w):\n",
    "            if indices[y,x] < 0: continue\n",
    "            for dx,dy in neighbor_offsets:\n",
    "                if ((0 <= x+dx < w)\n",
    "                    and (0 <= y+dy < h)\n",
    "                    and (indices[y+dy,x+dx] >= 0)\n",
    "                    and (indices[y+dy,x+dx] != indices[y,x])):\n",
    "                    \n",
    "                    neighbors[indices[y,x]].add(indices[y+dy,x+dx])\n",
    "    return neighbors"
   ]
  },
  {
   "cell_type": "code",
   "execution_count": 533,
   "metadata": {},
   "outputs": [],
   "source": [
    "voronoi_neighbors = comute_voronoi_neighbors(voronoi)"
   ]
  },
  {
   "cell_type": "code",
   "execution_count": 534,
   "metadata": {},
   "outputs": [
    {
     "data": {
      "text/plain": [
       "{2}"
      ]
     },
     "execution_count": 534,
     "metadata": {},
     "output_type": "execute_result"
    }
   ],
   "source": [
    "ddd.union()"
   ]
  },
  {
   "cell_type": "code",
   "execution_count": 535,
   "metadata": {},
   "outputs": [
    {
     "data": {
      "text/plain": [
       "[<matplotlib.lines.Line2D at 0x7fbed124ef60>]"
      ]
     },
     "execution_count": 535,
     "metadata": {},
     "output_type": "execute_result"
    },
    {
     "data": {
      "image/png": "[encoded data removed]",
      "text/plain": [
       "<Figure size 432x288 with 1 Axes>"
      ]
     },
     "metadata": {
      "needs_background": "light"
     },
     "output_type": "display_data"
    }
   ],
   "source": [
    "plt.imshow(voronoi)\n",
    "for k,idcs in voronoi_neighbors.items():\n",
    "    for i in idcs:\n",
    "        plt.plot(\n",
    "            [points[k,0],points[i,0]],\n",
    "            [points[k,1],points[i,1]],\n",
    "            color=\"#FF6A00\"\n",
    "        )\n",
    "plt.plot(points[:,0],points[:,1],\"o\",color=\"red\")\n"
   ]
  },
  {
   "cell_type": "code",
   "execution_count": null,
   "metadata": {},
   "outputs": [],
   "source": []
  },
  {
   "cell_type": "code",
   "execution_count": 430,
   "metadata": {},
   "outputs": [],
   "source": [
    "produce = (np.random.rand(num_points) < 0.5) * np.random.uniform(5,15,num_points)"
   ]
  },
  {
   "cell_type": "code",
   "execution_count": 431,
   "metadata": {},
   "outputs": [],
   "source": [
    "consume = (np.random.rand(num_points) < 0.5) * np.random.uniform(5,15,num_points)"
   ]
  },
  {
   "cell_type": "code",
   "execution_count": 494,
   "metadata": {},
   "outputs": [
    {
     "data": {
      "text/plain": [
       "(array([ 5.28382539,  0.        ,  5.35637437, 14.07495814]),\n",
       " array([14.6120588 , 11.69120679,  0.        ,  0.        ]))"
      ]
     },
     "execution_count": 494,
     "metadata": {},
     "output_type": "execute_result"
    }
   ],
   "source": [
    "produce, consume"
   ]
  },
  {
   "cell_type": "code",
   "execution_count": 451,
   "metadata": {},
   "outputs": [],
   "source": [
    "surplus = produce - consume"
   ]
  },
  {
   "cell_type": "code",
   "execution_count": 452,
   "metadata": {},
   "outputs": [
    {
     "data": {
      "text/plain": [
       "array([ -9.32823341, -11.69120679,   5.35637437,  14.07495814])"
      ]
     },
     "execution_count": 452,
     "metadata": {},
     "output_type": "execute_result"
    }
   ],
   "source": [
    "surplus"
   ]
  },
  {
   "cell_type": "code",
   "execution_count": 449,
   "metadata": {},
   "outputs": [
    {
     "data": {
      "text/plain": [
       "(24.71515790798594, 26.303265589380665)"
      ]
     },
     "execution_count": 449,
     "metadata": {},
     "output_type": "execute_result"
    }
   ],
   "source": [
    "produce.sum(), consume.sum()"
   ]
  },
  {
   "cell_type": "code",
   "execution_count": 453,
   "metadata": {},
   "outputs": [
    {
     "data": {
      "text/plain": [
       "-1.5881076813947264"
      ]
     },
     "execution_count": 453,
     "metadata": {},
     "output_type": "execute_result"
    }
   ],
   "source": [
    "surplus.sum()"
   ]
  },
  {
   "cell_type": "code",
   "execution_count": 457,
   "metadata": {},
   "outputs": [],
   "source": [
    "if surplus.sum() < 0:\n",
    "    granted = consume + surplus.sum() / consume.shape[0]\n",
    "else:\n",
    "    granted = consume"
   ]
  },
  {
   "cell_type": "code",
   "execution_count": 460,
   "metadata": {},
   "outputs": [],
   "source": [
    "flux = produce - granted"
   ]
  },
  {
   "cell_type": "code",
   "execution_count": 461,
   "metadata": {},
   "outputs": [
    {
     "data": {
      "text/plain": [
       "array([ -8.93120649, -11.29417987,   5.75340129,  14.47198506])"
      ]
     },
     "execution_count": 461,
     "metadata": {},
     "output_type": "execute_result"
    }
   ],
   "source": [
    "flux"
   ]
  },
  {
   "cell_type": "code",
   "execution_count": 508,
   "metadata": {},
   "outputs": [],
   "source": [
    "transport = np.zeros((num_points,num_points))"
   ]
  },
  {
   "cell_type": "code",
   "execution_count": 490,
   "metadata": {},
   "outputs": [],
   "source": [
    "transport[3,0] = 8.93\n"
   ]
  },
  {
   "cell_type": "code",
   "execution_count": 509,
   "metadata": {},
   "outputs": [],
   "source": [
    "received = transport.sum(axis=0)\n",
    "sent = transport.sum(axis=1)\n",
    "available = received - sent + flux"
   ]
  },
  {
   "cell_type": "code",
   "execution_count": 510,
   "metadata": {},
   "outputs": [
    {
     "data": {
      "text/plain": [
       "(array([0., 0., 0., 0.]),\n",
       " array([0., 0., 0., 0.]),\n",
       " array([ -8.93120649, -11.29417987,   5.75340129,  14.47198506]))"
      ]
     },
     "execution_count": 510,
     "metadata": {},
     "output_type": "execute_result"
    }
   ],
   "source": [
    "received,sent,available"
   ]
  },
  {
   "cell_type": "code",
   "execution_count": null,
   "metadata": {},
   "outputs": [],
   "source": [
    "while available.max() > 0:\n",
    "    for k,available_ in enumerate(available):\n",
    "        if available_ > 0:\n",
    "            \n",
    "    received = transport.sum(axis=0)\n",
    "    sent = transport.sum(axis=1)\n",
    "    available = received - sent + flux"
   ]
  },
  {
   "cell_type": "code",
   "execution_count": null,
   "metadata": {},
   "outputs": [],
   "source": [
    "for k, flux_ in enumerate(flux):\n",
    "    available = flux - transport.sum(axis=0) + transport.sum(axis=1)\n",
    "    if flux_ < 0:\n",
    "        # we need\n",
    "    else:\n",
    "        # we have"
   ]
  },
  {
   "cell_type": "code",
   "execution_count": 447,
   "metadata": {},
   "outputs": [
    {
     "data": {
      "text/plain": [
       "[<matplotlib.lines.Line2D at 0x7fbed1731780>]"
      ]
     },
     "execution_count": 447,
     "metadata": {},
     "output_type": "execute_result"
    },
    {
     "data": {
      "image/png": "[encoded data removed]",
      "text/plain": [
       "<Figure size 432x288 with 1 Axes>"
      ]
     },
     "metadata": {
      "needs_background": "light"
     },
     "output_type": "display_data"
    }
   ],
   "source": [
    "plt.imshow(voronoi)\n",
    "for k,idcs in voronoi_neighbors.items():\n",
    "    for i in idcs:\n",
    "        plt.plot(\n",
    "            [points[k,0],points[i,0]],\n",
    "            [points[k,1],points[i,1]],\n",
    "            color=\"#FF6A00\"\n",
    "        )\n",
    "plt.plot(points[produce > 0,0],points[produce > 0,1],\"s\",color=\"green\")\n",
    "plt.plot(points[consume > 0,0],points[consume > 0,1],\"x\",color=\"red\")\n"
   ]
  },
  {
   "cell_type": "code",
   "execution_count": 448,
   "metadata": {},
   "outputs": [
    {
     "data": {
      "text/plain": [
       "{0: {3}, 1: {2, 3}, 2: {1, 3}, 3: {0, 1, 2}}"
      ]
     },
     "execution_count": 448,
     "metadata": {},
     "output_type": "execute_result"
    }
   ],
   "source": [
    "voronoi_neighbors"
   ]
  },
  {
   "cell_type": "code",
   "execution_count": 506,
   "metadata": {},
   "outputs": [],
   "source": [
    "gradients = {}\n",
    "for key,neighbors in voronoi_neighbors.items():\n",
    "    gradients[key] = dict()\n",
    "    for idx in neighbors:\n",
    "        gradients[key][idx] = flux[key]+flux[idx]"
   ]
  },
  {
   "cell_type": "code",
   "execution_count": 507,
   "metadata": {},
   "outputs": [
    {
     "data": {
      "text/plain": [
       "{0: {3: 5.540778571914155},\n",
       " 1: {2: -5.5407785719141565, 3: 3.177805195205531},\n",
       " 2: {1: -5.5407785719141565, 3: 20.225386354359685},\n",
       " 3: {0: 5.540778571914155, 1: 3.177805195205531, 2: 20.225386354359685}}"
      ]
     },
     "execution_count": 507,
     "metadata": {},
     "output_type": "execute_result"
    }
   ],
   "source": [
    "gradients"
   ]
  },
  {
   "cell_type": "code",
   "execution_count": null,
   "metadata": {},
   "outputs": [],
   "source": [
    "def find_path()"
   ]
  }
 ],
 "metadata": {
  "kernelspec": {
   "display_name": "Python 3",
   "language": "python",
   "name": "python3"
  },
  "language_info": {
   "codemirror_mode": {
    "name": "ipython",
    "version": 3
   },
   "file_extension": ".py",
   "mimetype": "text/x-python",
   "name": "python",
   "nbconvert_exporter": "python",
   "pygments_lexer": "ipython3",
   "version": "3.6.7"
  }
 },
 "nbformat": 4,
 "nbformat_minor": 2
}
